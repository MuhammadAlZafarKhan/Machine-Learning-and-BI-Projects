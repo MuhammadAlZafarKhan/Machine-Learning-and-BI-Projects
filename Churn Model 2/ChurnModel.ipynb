{
  "nbformat": 4,
  "nbformat_minor": 0,
  "metadata": {
    "colab": {
      "provenance": []
    },
    "kernelspec": {
      "name": "python3",
      "display_name": "Python 3"
    },
    "language_info": {
      "name": "python"
    }
  },
  "cells": [
    {
      "cell_type": "markdown",
      "source": [
        "**Building ML Models with Real-world Teleco Data -- The Model Scores aren't so Perfect Afterall**"
      ],
      "metadata": {
        "id": "7CXFfjolcd13"
      }
    },
    {
      "cell_type": "code",
      "execution_count": 1,
      "metadata": {
        "id": "l3dN3bbiQO1M"
      },
      "outputs": [],
      "source": [
        "import pandas as pd\n",
        "import matplotlib.pyplot as plt"
      ]
    },
    {
      "cell_type": "code",
      "source": [
        "# Reading in the data\n",
        "df = pd.read_excel(\"ChurnData.xlsx\")\n",
        "df.head()"
      ],
      "metadata": {
        "colab": {
          "base_uri": "https://localhost:8080/",
          "height": 206
        },
        "id": "LRH_sIjWQm-A",
        "outputId": "31acc91f-c184-4d5e-b2d7-b48647b572c9"
      },
      "execution_count": 2,
      "outputs": [
        {
          "output_type": "execute_result",
          "data": {
            "text/plain": [
              "  Customer ID       Country         Region    Channel Partner  \\\n",
              "0       ZAR01  South Africa  Northern Cape   Regional  Awesim   \n",
              "1       ZAR02  South Africa     North West     Retail  Awesim   \n",
              "2       ZAR03  South Africa  KwaZulu-Natal     Direct     PEP   \n",
              "3       ZAR04  South Africa  KwaZulu-Natal     Retail     PEP   \n",
              "4       ZAR05  South Africa        Gauteng  Strategic     ERZ   \n",
              "\n",
              "   Days on Network Network Availability Device Make Churn  \n",
              "0                7                  Yes       Apple    No  \n",
              "1              110                  Yes     OnePlus   Yes  \n",
              "2              231                   No      Xiaomi   Yes  \n",
              "3              255                   No      Xiaomi   Yes  \n",
              "4              133                   No     OnePlus   Yes  "
            ],
            "text/html": [
              "\n",
              "  <div id=\"df-1056388d-9c59-4c71-b7fd-82dbf10f273f\">\n",
              "    <div class=\"colab-df-container\">\n",
              "      <div>\n",
              "<style scoped>\n",
              "    .dataframe tbody tr th:only-of-type {\n",
              "        vertical-align: middle;\n",
              "    }\n",
              "\n",
              "    .dataframe tbody tr th {\n",
              "        vertical-align: top;\n",
              "    }\n",
              "\n",
              "    .dataframe thead th {\n",
              "        text-align: right;\n",
              "    }\n",
              "</style>\n",
              "<table border=\"1\" class=\"dataframe\">\n",
              "  <thead>\n",
              "    <tr style=\"text-align: right;\">\n",
              "      <th></th>\n",
              "      <th>Customer ID</th>\n",
              "      <th>Country</th>\n",
              "      <th>Region</th>\n",
              "      <th>Channel</th>\n",
              "      <th>Partner</th>\n",
              "      <th>Days on Network</th>\n",
              "      <th>Network Availability</th>\n",
              "      <th>Device Make</th>\n",
              "      <th>Churn</th>\n",
              "    </tr>\n",
              "  </thead>\n",
              "  <tbody>\n",
              "    <tr>\n",
              "      <th>0</th>\n",
              "      <td>ZAR01</td>\n",
              "      <td>South Africa</td>\n",
              "      <td>Northern Cape</td>\n",
              "      <td>Regional</td>\n",
              "      <td>Awesim</td>\n",
              "      <td>7</td>\n",
              "      <td>Yes</td>\n",
              "      <td>Apple</td>\n",
              "      <td>No</td>\n",
              "    </tr>\n",
              "    <tr>\n",
              "      <th>1</th>\n",
              "      <td>ZAR02</td>\n",
              "      <td>South Africa</td>\n",
              "      <td>North West</td>\n",
              "      <td>Retail</td>\n",
              "      <td>Awesim</td>\n",
              "      <td>110</td>\n",
              "      <td>Yes</td>\n",
              "      <td>OnePlus</td>\n",
              "      <td>Yes</td>\n",
              "    </tr>\n",
              "    <tr>\n",
              "      <th>2</th>\n",
              "      <td>ZAR03</td>\n",
              "      <td>South Africa</td>\n",
              "      <td>KwaZulu-Natal</td>\n",
              "      <td>Direct</td>\n",
              "      <td>PEP</td>\n",
              "      <td>231</td>\n",
              "      <td>No</td>\n",
              "      <td>Xiaomi</td>\n",
              "      <td>Yes</td>\n",
              "    </tr>\n",
              "    <tr>\n",
              "      <th>3</th>\n",
              "      <td>ZAR04</td>\n",
              "      <td>South Africa</td>\n",
              "      <td>KwaZulu-Natal</td>\n",
              "      <td>Retail</td>\n",
              "      <td>PEP</td>\n",
              "      <td>255</td>\n",
              "      <td>No</td>\n",
              "      <td>Xiaomi</td>\n",
              "      <td>Yes</td>\n",
              "    </tr>\n",
              "    <tr>\n",
              "      <th>4</th>\n",
              "      <td>ZAR05</td>\n",
              "      <td>South Africa</td>\n",
              "      <td>Gauteng</td>\n",
              "      <td>Strategic</td>\n",
              "      <td>ERZ</td>\n",
              "      <td>133</td>\n",
              "      <td>No</td>\n",
              "      <td>OnePlus</td>\n",
              "      <td>Yes</td>\n",
              "    </tr>\n",
              "  </tbody>\n",
              "</table>\n",
              "</div>\n",
              "      <button class=\"colab-df-convert\" onclick=\"convertToInteractive('df-1056388d-9c59-4c71-b7fd-82dbf10f273f')\"\n",
              "              title=\"Convert this dataframe to an interactive table.\"\n",
              "              style=\"display:none;\">\n",
              "        \n",
              "  <svg xmlns=\"http://www.w3.org/2000/svg\" height=\"24px\"viewBox=\"0 0 24 24\"\n",
              "       width=\"24px\">\n",
              "    <path d=\"M0 0h24v24H0V0z\" fill=\"none\"/>\n",
              "    <path d=\"M18.56 5.44l.94 2.06.94-2.06 2.06-.94-2.06-.94-.94-2.06-.94 2.06-2.06.94zm-11 1L8.5 8.5l.94-2.06 2.06-.94-2.06-.94L8.5 2.5l-.94 2.06-2.06.94zm10 10l.94 2.06.94-2.06 2.06-.94-2.06-.94-.94-2.06-.94 2.06-2.06.94z\"/><path d=\"M17.41 7.96l-1.37-1.37c-.4-.4-.92-.59-1.43-.59-.52 0-1.04.2-1.43.59L10.3 9.45l-7.72 7.72c-.78.78-.78 2.05 0 2.83L4 21.41c.39.39.9.59 1.41.59.51 0 1.02-.2 1.41-.59l7.78-7.78 2.81-2.81c.8-.78.8-2.07 0-2.86zM5.41 20L4 18.59l7.72-7.72 1.47 1.35L5.41 20z\"/>\n",
              "  </svg>\n",
              "      </button>\n",
              "      \n",
              "  <style>\n",
              "    .colab-df-container {\n",
              "      display:flex;\n",
              "      flex-wrap:wrap;\n",
              "      gap: 12px;\n",
              "    }\n",
              "\n",
              "    .colab-df-convert {\n",
              "      background-color: #E8F0FE;\n",
              "      border: none;\n",
              "      border-radius: 50%;\n",
              "      cursor: pointer;\n",
              "      display: none;\n",
              "      fill: #1967D2;\n",
              "      height: 32px;\n",
              "      padding: 0 0 0 0;\n",
              "      width: 32px;\n",
              "    }\n",
              "\n",
              "    .colab-df-convert:hover {\n",
              "      background-color: #E2EBFA;\n",
              "      box-shadow: 0px 1px 2px rgba(60, 64, 67, 0.3), 0px 1px 3px 1px rgba(60, 64, 67, 0.15);\n",
              "      fill: #174EA6;\n",
              "    }\n",
              "\n",
              "    [theme=dark] .colab-df-convert {\n",
              "      background-color: #3B4455;\n",
              "      fill: #D2E3FC;\n",
              "    }\n",
              "\n",
              "    [theme=dark] .colab-df-convert:hover {\n",
              "      background-color: #434B5C;\n",
              "      box-shadow: 0px 1px 3px 1px rgba(0, 0, 0, 0.15);\n",
              "      filter: drop-shadow(0px 1px 2px rgba(0, 0, 0, 0.3));\n",
              "      fill: #FFFFFF;\n",
              "    }\n",
              "  </style>\n",
              "\n",
              "      <script>\n",
              "        const buttonEl =\n",
              "          document.querySelector('#df-1056388d-9c59-4c71-b7fd-82dbf10f273f button.colab-df-convert');\n",
              "        buttonEl.style.display =\n",
              "          google.colab.kernel.accessAllowed ? 'block' : 'none';\n",
              "\n",
              "        async function convertToInteractive(key) {\n",
              "          const element = document.querySelector('#df-1056388d-9c59-4c71-b7fd-82dbf10f273f');\n",
              "          const dataTable =\n",
              "            await google.colab.kernel.invokeFunction('convertToInteractive',\n",
              "                                                     [key], {});\n",
              "          if (!dataTable) return;\n",
              "\n",
              "          const docLinkHtml = 'Like what you see? Visit the ' +\n",
              "            '<a target=\"_blank\" href=https://colab.research.google.com/notebooks/data_table.ipynb>data table notebook</a>'\n",
              "            + ' to learn more about interactive tables.';\n",
              "          element.innerHTML = '';\n",
              "          dataTable['output_type'] = 'display_data';\n",
              "          await google.colab.output.renderOutput(dataTable, element);\n",
              "          const docLink = document.createElement('div');\n",
              "          docLink.innerHTML = docLinkHtml;\n",
              "          element.appendChild(docLink);\n",
              "        }\n",
              "      </script>\n",
              "    </div>\n",
              "  </div>\n",
              "  "
            ]
          },
          "metadata": {},
          "execution_count": 2
        }
      ]
    },
    {
      "cell_type": "code",
      "source": [
        "# Dropping unnescessary features\n",
        "df.drop([\"Customer ID\", \"Country\"], axis = \"columns\", inplace = True)\n",
        "df"
      ],
      "metadata": {
        "colab": {
          "base_uri": "https://localhost:8080/",
          "height": 424
        },
        "id": "tXYJtc5eQzTS",
        "outputId": "b04caad0-dafb-4b48-e482-27fe50a9023a"
      },
      "execution_count": 3,
      "outputs": [
        {
          "output_type": "execute_result",
          "data": {
            "text/plain": [
              "            Region    Channel Partner  Days on Network Network Availability  \\\n",
              "0    Northern Cape   Regional  Awesim                7                  Yes   \n",
              "1       North West     Retail  Awesim              110                  Yes   \n",
              "2    KwaZulu-Natal     Direct     PEP              231                   No   \n",
              "3    KwaZulu-Natal     Retail     PEP              255                   No   \n",
              "4          Gauteng  Strategic     ERZ              133                   No   \n",
              "..             ...        ...     ...              ...                  ...   \n",
              "99      Free State     Direct    TSPC              218                   No   \n",
              "100     North West  Strategic    TSPC               10                  Yes   \n",
              "101     Mpumalanga     Retail     ERZ              176                   No   \n",
              "102     North West     Direct  Awesim              205                  Yes   \n",
              "103     Free State   Regional     ERZ              277                   No   \n",
              "\n",
              "    Device Make Churn  \n",
              "0         Apple    No  \n",
              "1       OnePlus   Yes  \n",
              "2        Xiaomi   Yes  \n",
              "3        Xiaomi   Yes  \n",
              "4       OnePlus   Yes  \n",
              "..          ...   ...  \n",
              "99           LG    No  \n",
              "100      Xiaomi   Yes  \n",
              "101         HTC    No  \n",
              "102         HTC    No  \n",
              "103       Apple    No  \n",
              "\n",
              "[104 rows x 7 columns]"
            ],
            "text/html": [
              "\n",
              "  <div id=\"df-42619891-81bd-4edc-bfd5-296b6629cb71\">\n",
              "    <div class=\"colab-df-container\">\n",
              "      <div>\n",
              "<style scoped>\n",
              "    .dataframe tbody tr th:only-of-type {\n",
              "        vertical-align: middle;\n",
              "    }\n",
              "\n",
              "    .dataframe tbody tr th {\n",
              "        vertical-align: top;\n",
              "    }\n",
              "\n",
              "    .dataframe thead th {\n",
              "        text-align: right;\n",
              "    }\n",
              "</style>\n",
              "<table border=\"1\" class=\"dataframe\">\n",
              "  <thead>\n",
              "    <tr style=\"text-align: right;\">\n",
              "      <th></th>\n",
              "      <th>Region</th>\n",
              "      <th>Channel</th>\n",
              "      <th>Partner</th>\n",
              "      <th>Days on Network</th>\n",
              "      <th>Network Availability</th>\n",
              "      <th>Device Make</th>\n",
              "      <th>Churn</th>\n",
              "    </tr>\n",
              "  </thead>\n",
              "  <tbody>\n",
              "    <tr>\n",
              "      <th>0</th>\n",
              "      <td>Northern Cape</td>\n",
              "      <td>Regional</td>\n",
              "      <td>Awesim</td>\n",
              "      <td>7</td>\n",
              "      <td>Yes</td>\n",
              "      <td>Apple</td>\n",
              "      <td>No</td>\n",
              "    </tr>\n",
              "    <tr>\n",
              "      <th>1</th>\n",
              "      <td>North West</td>\n",
              "      <td>Retail</td>\n",
              "      <td>Awesim</td>\n",
              "      <td>110</td>\n",
              "      <td>Yes</td>\n",
              "      <td>OnePlus</td>\n",
              "      <td>Yes</td>\n",
              "    </tr>\n",
              "    <tr>\n",
              "      <th>2</th>\n",
              "      <td>KwaZulu-Natal</td>\n",
              "      <td>Direct</td>\n",
              "      <td>PEP</td>\n",
              "      <td>231</td>\n",
              "      <td>No</td>\n",
              "      <td>Xiaomi</td>\n",
              "      <td>Yes</td>\n",
              "    </tr>\n",
              "    <tr>\n",
              "      <th>3</th>\n",
              "      <td>KwaZulu-Natal</td>\n",
              "      <td>Retail</td>\n",
              "      <td>PEP</td>\n",
              "      <td>255</td>\n",
              "      <td>No</td>\n",
              "      <td>Xiaomi</td>\n",
              "      <td>Yes</td>\n",
              "    </tr>\n",
              "    <tr>\n",
              "      <th>4</th>\n",
              "      <td>Gauteng</td>\n",
              "      <td>Strategic</td>\n",
              "      <td>ERZ</td>\n",
              "      <td>133</td>\n",
              "      <td>No</td>\n",
              "      <td>OnePlus</td>\n",
              "      <td>Yes</td>\n",
              "    </tr>\n",
              "    <tr>\n",
              "      <th>...</th>\n",
              "      <td>...</td>\n",
              "      <td>...</td>\n",
              "      <td>...</td>\n",
              "      <td>...</td>\n",
              "      <td>...</td>\n",
              "      <td>...</td>\n",
              "      <td>...</td>\n",
              "    </tr>\n",
              "    <tr>\n",
              "      <th>99</th>\n",
              "      <td>Free State</td>\n",
              "      <td>Direct</td>\n",
              "      <td>TSPC</td>\n",
              "      <td>218</td>\n",
              "      <td>No</td>\n",
              "      <td>LG</td>\n",
              "      <td>No</td>\n",
              "    </tr>\n",
              "    <tr>\n",
              "      <th>100</th>\n",
              "      <td>North West</td>\n",
              "      <td>Strategic</td>\n",
              "      <td>TSPC</td>\n",
              "      <td>10</td>\n",
              "      <td>Yes</td>\n",
              "      <td>Xiaomi</td>\n",
              "      <td>Yes</td>\n",
              "    </tr>\n",
              "    <tr>\n",
              "      <th>101</th>\n",
              "      <td>Mpumalanga</td>\n",
              "      <td>Retail</td>\n",
              "      <td>ERZ</td>\n",
              "      <td>176</td>\n",
              "      <td>No</td>\n",
              "      <td>HTC</td>\n",
              "      <td>No</td>\n",
              "    </tr>\n",
              "    <tr>\n",
              "      <th>102</th>\n",
              "      <td>North West</td>\n",
              "      <td>Direct</td>\n",
              "      <td>Awesim</td>\n",
              "      <td>205</td>\n",
              "      <td>Yes</td>\n",
              "      <td>HTC</td>\n",
              "      <td>No</td>\n",
              "    </tr>\n",
              "    <tr>\n",
              "      <th>103</th>\n",
              "      <td>Free State</td>\n",
              "      <td>Regional</td>\n",
              "      <td>ERZ</td>\n",
              "      <td>277</td>\n",
              "      <td>No</td>\n",
              "      <td>Apple</td>\n",
              "      <td>No</td>\n",
              "    </tr>\n",
              "  </tbody>\n",
              "</table>\n",
              "<p>104 rows × 7 columns</p>\n",
              "</div>\n",
              "      <button class=\"colab-df-convert\" onclick=\"convertToInteractive('df-42619891-81bd-4edc-bfd5-296b6629cb71')\"\n",
              "              title=\"Convert this dataframe to an interactive table.\"\n",
              "              style=\"display:none;\">\n",
              "        \n",
              "  <svg xmlns=\"http://www.w3.org/2000/svg\" height=\"24px\"viewBox=\"0 0 24 24\"\n",
              "       width=\"24px\">\n",
              "    <path d=\"M0 0h24v24H0V0z\" fill=\"none\"/>\n",
              "    <path d=\"M18.56 5.44l.94 2.06.94-2.06 2.06-.94-2.06-.94-.94-2.06-.94 2.06-2.06.94zm-11 1L8.5 8.5l.94-2.06 2.06-.94-2.06-.94L8.5 2.5l-.94 2.06-2.06.94zm10 10l.94 2.06.94-2.06 2.06-.94-2.06-.94-.94-2.06-.94 2.06-2.06.94z\"/><path d=\"M17.41 7.96l-1.37-1.37c-.4-.4-.92-.59-1.43-.59-.52 0-1.04.2-1.43.59L10.3 9.45l-7.72 7.72c-.78.78-.78 2.05 0 2.83L4 21.41c.39.39.9.59 1.41.59.51 0 1.02-.2 1.41-.59l7.78-7.78 2.81-2.81c.8-.78.8-2.07 0-2.86zM5.41 20L4 18.59l7.72-7.72 1.47 1.35L5.41 20z\"/>\n",
              "  </svg>\n",
              "      </button>\n",
              "      \n",
              "  <style>\n",
              "    .colab-df-container {\n",
              "      display:flex;\n",
              "      flex-wrap:wrap;\n",
              "      gap: 12px;\n",
              "    }\n",
              "\n",
              "    .colab-df-convert {\n",
              "      background-color: #E8F0FE;\n",
              "      border: none;\n",
              "      border-radius: 50%;\n",
              "      cursor: pointer;\n",
              "      display: none;\n",
              "      fill: #1967D2;\n",
              "      height: 32px;\n",
              "      padding: 0 0 0 0;\n",
              "      width: 32px;\n",
              "    }\n",
              "\n",
              "    .colab-df-convert:hover {\n",
              "      background-color: #E2EBFA;\n",
              "      box-shadow: 0px 1px 2px rgba(60, 64, 67, 0.3), 0px 1px 3px 1px rgba(60, 64, 67, 0.15);\n",
              "      fill: #174EA6;\n",
              "    }\n",
              "\n",
              "    [theme=dark] .colab-df-convert {\n",
              "      background-color: #3B4455;\n",
              "      fill: #D2E3FC;\n",
              "    }\n",
              "\n",
              "    [theme=dark] .colab-df-convert:hover {\n",
              "      background-color: #434B5C;\n",
              "      box-shadow: 0px 1px 3px 1px rgba(0, 0, 0, 0.15);\n",
              "      filter: drop-shadow(0px 1px 2px rgba(0, 0, 0, 0.3));\n",
              "      fill: #FFFFFF;\n",
              "    }\n",
              "  </style>\n",
              "\n",
              "      <script>\n",
              "        const buttonEl =\n",
              "          document.querySelector('#df-42619891-81bd-4edc-bfd5-296b6629cb71 button.colab-df-convert');\n",
              "        buttonEl.style.display =\n",
              "          google.colab.kernel.accessAllowed ? 'block' : 'none';\n",
              "\n",
              "        async function convertToInteractive(key) {\n",
              "          const element = document.querySelector('#df-42619891-81bd-4edc-bfd5-296b6629cb71');\n",
              "          const dataTable =\n",
              "            await google.colab.kernel.invokeFunction('convertToInteractive',\n",
              "                                                     [key], {});\n",
              "          if (!dataTable) return;\n",
              "\n",
              "          const docLinkHtml = 'Like what you see? Visit the ' +\n",
              "            '<a target=\"_blank\" href=https://colab.research.google.com/notebooks/data_table.ipynb>data table notebook</a>'\n",
              "            + ' to learn more about interactive tables.';\n",
              "          element.innerHTML = '';\n",
              "          dataTable['output_type'] = 'display_data';\n",
              "          await google.colab.output.renderOutput(dataTable, element);\n",
              "          const docLink = document.createElement('div');\n",
              "          docLink.innerHTML = docLinkHtml;\n",
              "          element.appendChild(docLink);\n",
              "        }\n",
              "      </script>\n",
              "    </div>\n",
              "  </div>\n",
              "  "
            ]
          },
          "metadata": {},
          "execution_count": 3
        }
      ]
    },
    {
      "cell_type": "code",
      "source": [
        "# Encoding the data\n",
        "from sklearn.preprocessing import LabelEncoder\n",
        "\n",
        "le = LabelEncoder()"
      ],
      "metadata": {
        "id": "SVQGSJICRGYL"
      },
      "execution_count": 4,
      "outputs": []
    },
    {
      "cell_type": "code",
      "source": [
        "df[\"Region\"] = le.fit_transform(df[\"Region\"])\n",
        "df[\"Channel\"] = le.fit_transform(df[\"Channel\"])\n",
        "df[\"Partner\"] = le.fit_transform(df[\"Partner\"])\n",
        "df[\"Network Availability\"] = le.fit_transform(df[\"Network Availability\"])\n",
        "df[\"Device Make\"] = le.fit_transform(df[\"Device Make\"])\n",
        "df[\"Churn\"] = le.fit_transform(df[\"Churn\"])"
      ],
      "metadata": {
        "id": "jyKbby0LSFYy"
      },
      "execution_count": 5,
      "outputs": []
    },
    {
      "cell_type": "code",
      "source": [
        "# Ensuring we have correct data types\n",
        "df.dtypes"
      ],
      "metadata": {
        "colab": {
          "base_uri": "https://localhost:8080/"
        },
        "id": "ySAfPMR-TmEF",
        "outputId": "721820e5-5f99-4876-8a24-34a4b3365db6"
      },
      "execution_count": 6,
      "outputs": [
        {
          "output_type": "execute_result",
          "data": {
            "text/plain": [
              "Region                  int64\n",
              "Channel                 int64\n",
              "Partner                 int64\n",
              "Days on Network         int64\n",
              "Network Availability    int64\n",
              "Device Make             int64\n",
              "Churn                   int64\n",
              "dtype: object"
            ]
          },
          "metadata": {},
          "execution_count": 6
        }
      ]
    },
    {
      "cell_type": "code",
      "source": [
        "df[\"Region\"] = df[\"Region\"].astype(\"category\")\n",
        "df[\"Channel\"] = df[\"Channel\"].astype(\"category\")\n",
        "df[\"Partner\"] = df[\"Partner\"].astype(\"category\")\n",
        "df[\"Network Availability\"] = df[\"Network Availability\"].astype(\"category\")\n",
        "df[\"Device Make\"] = df[\"Device Make\"].astype(\"category\")\n",
        "df[\"Churn\"] = df[\"Churn\"].astype(\"category\")\n",
        "\n",
        "df.dtypes"
      ],
      "metadata": {
        "colab": {
          "base_uri": "https://localhost:8080/"
        },
        "id": "XKeI54rXUoYi",
        "outputId": "03b187c3-54ec-42ec-d044-cf40f05bdc2c"
      },
      "execution_count": 7,
      "outputs": [
        {
          "output_type": "execute_result",
          "data": {
            "text/plain": [
              "Region                  category\n",
              "Channel                 category\n",
              "Partner                 category\n",
              "Days on Network            int64\n",
              "Network Availability    category\n",
              "Device Make             category\n",
              "Churn                   category\n",
              "dtype: object"
            ]
          },
          "metadata": {},
          "execution_count": 7
        }
      ]
    },
    {
      "cell_type": "code",
      "source": [
        "# Training the model\n",
        "\n",
        "from sklearn.model_selection import train_test_split\n",
        "\n",
        "X = df[[\"Region\", \"Channel\", \"Partner\", \"Days on Network\", \"Network Availability\", \"Device Make\"]]\n",
        "y = df[[\"Churn\"]]\n",
        "\n",
        "X_train, X_test, y_train, y_test = train_test_split(X, y, test_size = 0.2)"
      ],
      "metadata": {
        "id": "5i8kasgIVKak"
      },
      "execution_count": 8,
      "outputs": []
    },
    {
      "cell_type": "code",
      "source": [
        "# Model packages\n",
        "from sklearn.linear_model import LogisticRegression # For logistic regression\n",
        "from sklearn.ensemble import RandomForestClassifier # For random forest classification\n",
        "from sklearn.naive_bayes import GaussianNB # For naive Bayes"
      ],
      "metadata": {
        "id": "dsYHW072V0NH"
      },
      "execution_count": 9,
      "outputs": []
    },
    {
      "cell_type": "code",
      "source": [
        "# 1. Logistic regression model\n",
        "\n",
        "lr_model = LogisticRegression()\n",
        "lr_model.fit(X_train, y_train)\n",
        "lr_model.score(X_test, y_test)"
      ],
      "metadata": {
        "colab": {
          "base_uri": "https://localhost:8080/"
        },
        "id": "0bwZCw10XRKl",
        "outputId": "0ba2df46-2c77-4bff-93d9-c6876c64c825"
      },
      "execution_count": 10,
      "outputs": [
        {
          "output_type": "stream",
          "name": "stderr",
          "text": [
            "/usr/local/lib/python3.7/dist-packages/sklearn/utils/validation.py:993: DataConversionWarning: A column-vector y was passed when a 1d array was expected. Please change the shape of y to (n_samples, ), for example using ravel().\n",
            "  y = column_or_1d(y, warn=True)\n"
          ]
        },
        {
          "output_type": "execute_result",
          "data": {
            "text/plain": [
              "0.3333333333333333"
            ]
          },
          "metadata": {},
          "execution_count": 10
        }
      ]
    },
    {
      "cell_type": "code",
      "source": [
        "# Predicting values\n",
        "\n",
        "y_predicted1 = lr_model.predict(X_test)\n",
        "\n",
        "# Creating a confusion matrix for logistic regression\n",
        "from sklearn.metrics import confusion_matrix\n",
        "\n",
        "cm1 = confusion_matrix(y_test, y_predicted1)\n",
        "\n",
        "import seaborn as sn\n",
        "plt.figure(figsize = (10, 7))\n",
        "sn.heatmap(cm1, annot = True)\n",
        "plt.xlabel(\"Predicted\")\n",
        "plt.ylabel(\"True\")"
      ],
      "metadata": {
        "colab": {
          "base_uri": "https://localhost:8080/",
          "height": 463
        },
        "id": "6bdTgXyvf6Nh",
        "outputId": "fefa6a97-86dc-4a61-a6cc-cf4ed2efd1a3"
      },
      "execution_count": 11,
      "outputs": [
        {
          "output_type": "execute_result",
          "data": {
            "text/plain": [
              "Text(69.0, 0.5, 'True')"
            ]
          },
          "metadata": {},
          "execution_count": 11
        },
        {
          "output_type": "display_data",
          "data": {
            "text/plain": [
              "<Figure size 720x504 with 2 Axes>"
            ],
            "image/png": "[encoded data removed]"
          },
          "metadata": {
            "needs_background": "light"
          }
        }
      ]
    },
    {
      "cell_type": "code",
      "source": [
        "# 2. Random forest model\n",
        "\n",
        "rf_model = RandomForestClassifier()\n",
        "rf_model.fit(X_train, y_train)\n",
        "rf_model.score(X_test, y_test)"
      ],
      "metadata": {
        "colab": {
          "base_uri": "https://localhost:8080/"
        },
        "id": "6w4H6ZEzYYy0",
        "outputId": "4b508b3a-57e5-4960-91ee-f45c6ca31047"
      },
      "execution_count": 12,
      "outputs": [
        {
          "output_type": "stream",
          "name": "stderr",
          "text": [
            "/usr/local/lib/python3.7/dist-packages/ipykernel_launcher.py:4: DataConversionWarning: A column-vector y was passed when a 1d array was expected. Please change the shape of y to (n_samples,), for example using ravel().\n",
            "  after removing the cwd from sys.path.\n"
          ]
        },
        {
          "output_type": "execute_result",
          "data": {
            "text/plain": [
              "0.19047619047619047"
            ]
          },
          "metadata": {},
          "execution_count": 12
        }
      ]
    },
    {
      "cell_type": "code",
      "source": [
        "# Predicting values\n",
        "\n",
        "y_predicted2 = rf_model.predict(X_test)\n",
        "\n",
        "# Creating a confusion matrix for logistic regression\n",
        "from sklearn.metrics import confusion_matrix\n",
        "\n",
        "cm2 = confusion_matrix(y_test, y_predicted2)\n",
        "\n",
        "import seaborn as sn\n",
        "plt.figure(figsize = (10, 7))\n",
        "sn.heatmap(cm2, annot = True)\n",
        "plt.xlabel(\"Predicted\")\n",
        "plt.ylabel(\"True\")"
      ],
      "metadata": {
        "colab": {
          "base_uri": "https://localhost:8080/",
          "height": 463
        },
        "id": "inkYd2o-f5LR",
        "outputId": "bb726bb1-6fab-402e-a2cf-2b3e0229c707"
      },
      "execution_count": 13,
      "outputs": [
        {
          "output_type": "execute_result",
          "data": {
            "text/plain": [
              "Text(69.0, 0.5, 'True')"
            ]
          },
          "metadata": {},
          "execution_count": 13
        },
        {
          "output_type": "display_data",
          "data": {
            "text/plain": [
              "<Figure size 720x504 with 2 Axes>"
            ],
            "image/png": "[encoded data removed]"
          },
          "metadata": {
            "needs_background": "light"
          }
        }
      ]
    },
    {
      "cell_type": "code",
      "source": [
        "# 3. Naive Bayes model\n",
        "\n",
        "nb_classifier = GaussianNB()\n",
        "nb_classifier.fit(X_train, y_train)\n",
        "nb_classifier.score(X_test, y_test)"
      ],
      "metadata": {
        "colab": {
          "base_uri": "https://localhost:8080/"
        },
        "id": "Z7oTgj8FdXbp",
        "outputId": "8c9b9070-a527-4376-ecc8-798701408878"
      },
      "execution_count": 14,
      "outputs": [
        {
          "output_type": "stream",
          "name": "stderr",
          "text": [
            "/usr/local/lib/python3.7/dist-packages/sklearn/utils/validation.py:993: DataConversionWarning: A column-vector y was passed when a 1d array was expected. Please change the shape of y to (n_samples, ), for example using ravel().\n",
            "  y = column_or_1d(y, warn=True)\n"
          ]
        },
        {
          "output_type": "execute_result",
          "data": {
            "text/plain": [
              "0.38095238095238093"
            ]
          },
          "metadata": {},
          "execution_count": 14
        }
      ]
    },
    {
      "cell_type": "code",
      "source": [
        "# Predicting values\n",
        "\n",
        "y_predicted3 = nb_classifier.predict(X_test)\n",
        "\n",
        "# Creating a confusion matrix for logistic regression\n",
        "from sklearn.metrics import confusion_matrix\n",
        "\n",
        "cm3 = confusion_matrix(y_test, y_predicted3)\n",
        "\n",
        "import seaborn as sn\n",
        "plt.figure(figsize = (10, 7))\n",
        "sn.heatmap(cm3, annot = True)\n",
        "plt.xlabel(\"Predicted\")\n",
        "plt.ylabel(\"True\")"
      ],
      "metadata": {
        "colab": {
          "base_uri": "https://localhost:8080/",
          "height": 463
        },
        "id": "h5Bwd3vfoczi",
        "outputId": "2d2e89d6-0fd5-4520-a9c4-807ae62fa31c"
      },
      "execution_count": 15,
      "outputs": [
        {
          "output_type": "execute_result",
          "data": {
            "text/plain": [
              "Text(69.0, 0.5, 'True')"
            ]
          },
          "metadata": {},
          "execution_count": 15
        },
        {
          "output_type": "display_data",
          "data": {
            "text/plain": [
              "<Figure size 720x504 with 2 Axes>"
            ],
            "image/png": "[encoded data removed]"
          },
          "metadata": {
            "needs_background": "light"
          }
        }
      ]
    }
  ]
}