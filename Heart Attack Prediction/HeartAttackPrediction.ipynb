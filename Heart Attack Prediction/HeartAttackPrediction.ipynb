{
  "nbformat": 4,
  "nbformat_minor": 0,
  "metadata": {
    "colab": {
      "provenance": []
    },
    "kernelspec": {
      "name": "python3",
      "display_name": "Python 3"
    },
    "language_info": {
      "name": "python"
    }
  },
  "cells": [
    {
      "cell_type": "code",
      "execution_count": 1,
      "metadata": {
        "id": "0BvI5M6RxH5r"
      },
      "outputs": [],
      "source": [
        "# Packages\n",
        "import pandas as pd"
      ]
    },
    {
      "cell_type": "code",
      "source": [
        "# Reading in data\n",
        "df = pd.read_csv(\"heart_rate_dataset.csv\", sep = \";\")\n",
        "df"
      ],
      "metadata": {
        "colab": {
          "base_uri": "https://localhost:8080/",
          "height": 505
        },
        "id": "nxAEPsiPxVV6",
        "outputId": "197cb452-7091-4645-b9c5-ba8cdd56061f"
      },
      "execution_count": 2,
      "outputs": [
        {
          "output_type": "execute_result",
          "data": {
            "text/plain": [
              "     age  sex  chest_pain_level  resting_blood_pressure  cholesterol  \\\n",
              "0     63    1                 3                     145          233   \n",
              "1     37    1                 2                     130          250   \n",
              "2     41    0                 1                     130          204   \n",
              "3     56    1                 1                     120          236   \n",
              "4     57    0                 0                     120          354   \n",
              "..   ...  ...               ...                     ...          ...   \n",
              "298   57    0                 0                     140          241   \n",
              "299   45    1                 3                     110          264   \n",
              "300   68    1                 0                     144          193   \n",
              "301   57    1                 0                     130          131   \n",
              "302   57    0                 1                     130          236   \n",
              "\n",
              "     fasting_blood_sugar  resting_ecd  maximum hearth_rate  \\\n",
              "0                      1            0                  150   \n",
              "1                      0            1                  187   \n",
              "2                      0            0                  172   \n",
              "3                      0            1                  178   \n",
              "4                      0            1                  163   \n",
              "..                   ...          ...                  ...   \n",
              "298                    0            1                  123   \n",
              "299                    0            1                  132   \n",
              "300                    1            1                  141   \n",
              "301                    0            1                  115   \n",
              "302                    0            0                  174   \n",
              "\n",
              "     exercise_induced_angina  previous_peak  slope  number_of_major_vessels  \\\n",
              "0                          0            2.3      0                        0   \n",
              "1                          0            3.5      0                        0   \n",
              "2                          0            1.4      2                        0   \n",
              "3                          0            0.8      2                        0   \n",
              "4                          1            0.6      2                        0   \n",
              "..                       ...            ...    ...                      ...   \n",
              "298                        1            0.2      1                        0   \n",
              "299                        0            1.2      1                        0   \n",
              "300                        0            3.4      1                        2   \n",
              "301                        1            1.2      1                        1   \n",
              "302                        0            0.0      1                        1   \n",
              "\n",
              "     thal_rate  output  \n",
              "0            1       1  \n",
              "1            2       1  \n",
              "2            2       1  \n",
              "3            2       1  \n",
              "4            2       1  \n",
              "..         ...     ...  \n",
              "298          3       0  \n",
              "299          3       0  \n",
              "300          3       0  \n",
              "301          3       0  \n",
              "302          2       0  \n",
              "\n",
              "[303 rows x 14 columns]"
            ],
            "text/html": [
              "\n",
              "  <div id=\"df-3d14219a-2f04-4c7d-9e66-1be5ea8afd04\">\n",
              "    <div class=\"colab-df-container\">\n",
              "      <div>\n",
              "<style scoped>\n",
              "    .dataframe tbody tr th:only-of-type {\n",
              "        vertical-align: middle;\n",
              "    }\n",
              "\n",
              "    .dataframe tbody tr th {\n",
              "        vertical-align: top;\n",
              "    }\n",
              "\n",
              "    .dataframe thead th {\n",
              "        text-align: right;\n",
              "    }\n",
              "</style>\n",
              "<table border=\"1\" class=\"dataframe\">\n",
              "  <thead>\n",
              "    <tr style=\"text-align: right;\">\n",
              "      <th></th>\n",
              "      <th>age</th>\n",
              "      <th>sex</th>\n",
              "      <th>chest_pain_level</th>\n",
              "      <th>resting_blood_pressure</th>\n",
              "      <th>cholesterol</th>\n",
              "      <th>fasting_blood_sugar</th>\n",
              "      <th>resting_ecd</th>\n",
              "      <th>maximum hearth_rate</th>\n",
              "      <th>exercise_induced_angina</th>\n",
              "      <th>previous_peak</th>\n",
              "      <th>slope</th>\n",
              "      <th>number_of_major_vessels</th>\n",
              "      <th>thal_rate</th>\n",
              "      <th>output</th>\n",
              "    </tr>\n",
              "  </thead>\n",
              "  <tbody>\n",
              "    <tr>\n",
              "      <th>0</th>\n",
              "      <td>63</td>\n",
              "      <td>1</td>\n",
              "      <td>3</td>\n",
              "      <td>145</td>\n",
              "      <td>233</td>\n",
              "      <td>1</td>\n",
              "      <td>0</td>\n",
              "      <td>150</td>\n",
              "      <td>0</td>\n",
              "      <td>2.3</td>\n",
              "      <td>0</td>\n",
              "      <td>0</td>\n",
              "      <td>1</td>\n",
              "      <td>1</td>\n",
              "    </tr>\n",
              "    <tr>\n",
              "      <th>1</th>\n",
              "      <td>37</td>\n",
              "      <td>1</td>\n",
              "      <td>2</td>\n",
              "      <td>130</td>\n",
              "      <td>250</td>\n",
              "      <td>0</td>\n",
              "      <td>1</td>\n",
              "      <td>187</td>\n",
              "      <td>0</td>\n",
              "      <td>3.5</td>\n",
              "      <td>0</td>\n",
              "      <td>0</td>\n",
              "      <td>2</td>\n",
              "      <td>1</td>\n",
              "    </tr>\n",
              "    <tr>\n",
              "      <th>2</th>\n",
              "      <td>41</td>\n",
              "      <td>0</td>\n",
              "      <td>1</td>\n",
              "      <td>130</td>\n",
              "      <td>204</td>\n",
              "      <td>0</td>\n",
              "      <td>0</td>\n",
              "      <td>172</td>\n",
              "      <td>0</td>\n",
              "      <td>1.4</td>\n",
              "      <td>2</td>\n",
              "      <td>0</td>\n",
              "      <td>2</td>\n",
              "      <td>1</td>\n",
              "    </tr>\n",
              "    <tr>\n",
              "      <th>3</th>\n",
              "      <td>56</td>\n",
              "      <td>1</td>\n",
              "      <td>1</td>\n",
              "      <td>120</td>\n",
              "      <td>236</td>\n",
              "      <td>0</td>\n",
              "      <td>1</td>\n",
              "      <td>178</td>\n",
              "      <td>0</td>\n",
              "      <td>0.8</td>\n",
              "      <td>2</td>\n",
              "      <td>0</td>\n",
              "      <td>2</td>\n",
              "      <td>1</td>\n",
              "    </tr>\n",
              "    <tr>\n",
              "      <th>4</th>\n",
              "      <td>57</td>\n",
              "      <td>0</td>\n",
              "      <td>0</td>\n",
              "      <td>120</td>\n",
              "      <td>354</td>\n",
              "      <td>0</td>\n",
              "      <td>1</td>\n",
              "      <td>163</td>\n",
              "      <td>1</td>\n",
              "      <td>0.6</td>\n",
              "      <td>2</td>\n",
              "      <td>0</td>\n",
              "      <td>2</td>\n",
              "      <td>1</td>\n",
              "    </tr>\n",
              "    <tr>\n",
              "      <th>...</th>\n",
              "      <td>...</td>\n",
              "      <td>...</td>\n",
              "      <td>...</td>\n",
              "      <td>...</td>\n",
              "      <td>...</td>\n",
              "      <td>...</td>\n",
              "      <td>...</td>\n",
              "      <td>...</td>\n",
              "      <td>...</td>\n",
              "      <td>...</td>\n",
              "      <td>...</td>\n",
              "      <td>...</td>\n",
              "      <td>...</td>\n",
              "      <td>...</td>\n",
              "    </tr>\n",
              "    <tr>\n",
              "      <th>298</th>\n",
              "      <td>57</td>\n",
              "      <td>0</td>\n",
              "      <td>0</td>\n",
              "      <td>140</td>\n",
              "      <td>241</td>\n",
              "      <td>0</td>\n",
              "      <td>1</td>\n",
              "      <td>123</td>\n",
              "      <td>1</td>\n",
              "      <td>0.2</td>\n",
              "      <td>1</td>\n",
              "      <td>0</td>\n",
              "      <td>3</td>\n",
              "      <td>0</td>\n",
              "    </tr>\n",
              "    <tr>\n",
              "      <th>299</th>\n",
              "      <td>45</td>\n",
              "      <td>1</td>\n",
              "      <td>3</td>\n",
              "      <td>110</td>\n",
              "      <td>264</td>\n",
              "      <td>0</td>\n",
              "      <td>1</td>\n",
              "      <td>132</td>\n",
              "      <td>0</td>\n",
              "      <td>1.2</td>\n",
              "      <td>1</td>\n",
              "      <td>0</td>\n",
              "      <td>3</td>\n",
              "      <td>0</td>\n",
              "    </tr>\n",
              "    <tr>\n",
              "      <th>300</th>\n",
              "      <td>68</td>\n",
              "      <td>1</td>\n",
              "      <td>0</td>\n",
              "      <td>144</td>\n",
              "      <td>193</td>\n",
              "      <td>1</td>\n",
              "      <td>1</td>\n",
              "      <td>141</td>\n",
              "      <td>0</td>\n",
              "      <td>3.4</td>\n",
              "      <td>1</td>\n",
              "      <td>2</td>\n",
              "      <td>3</td>\n",
              "      <td>0</td>\n",
              "    </tr>\n",
              "    <tr>\n",
              "      <th>301</th>\n",
              "      <td>57</td>\n",
              "      <td>1</td>\n",
              "      <td>0</td>\n",
              "      <td>130</td>\n",
              "      <td>131</td>\n",
              "      <td>0</td>\n",
              "      <td>1</td>\n",
              "      <td>115</td>\n",
              "      <td>1</td>\n",
              "      <td>1.2</td>\n",
              "      <td>1</td>\n",
              "      <td>1</td>\n",
              "      <td>3</td>\n",
              "      <td>0</td>\n",
              "    </tr>\n",
              "    <tr>\n",
              "      <th>302</th>\n",
              "      <td>57</td>\n",
              "      <td>0</td>\n",
              "      <td>1</td>\n",
              "      <td>130</td>\n",
              "      <td>236</td>\n",
              "      <td>0</td>\n",
              "      <td>0</td>\n",
              "      <td>174</td>\n",
              "      <td>0</td>\n",
              "      <td>0.0</td>\n",
              "      <td>1</td>\n",
              "      <td>1</td>\n",
              "      <td>2</td>\n",
              "      <td>0</td>\n",
              "    </tr>\n",
              "  </tbody>\n",
              "</table>\n",
              "<p>303 rows × 14 columns</p>\n",
              "</div>\n",
              "      <button class=\"colab-df-convert\" onclick=\"convertToInteractive('df-3d14219a-2f04-4c7d-9e66-1be5ea8afd04')\"\n",
              "              title=\"Convert this dataframe to an interactive table.\"\n",
              "              style=\"display:none;\">\n",
              "        \n",
              "  <svg xmlns=\"http://www.w3.org/2000/svg\" height=\"24px\"viewBox=\"0 0 24 24\"\n",
              "       width=\"24px\">\n",
              "    <path d=\"M0 0h24v24H0V0z\" fill=\"none\"/>\n",
              "    <path d=\"M18.56 5.44l.94 2.06.94-2.06 2.06-.94-2.06-.94-.94-2.06-.94 2.06-2.06.94zm-11 1L8.5 8.5l.94-2.06 2.06-.94-2.06-.94L8.5 2.5l-.94 2.06-2.06.94zm10 10l.94 2.06.94-2.06 2.06-.94-2.06-.94-.94-2.06-.94 2.06-2.06.94z\"/><path d=\"M17.41 7.96l-1.37-1.37c-.4-.4-.92-.59-1.43-.59-.52 0-1.04.2-1.43.59L10.3 9.45l-7.72 7.72c-.78.78-.78 2.05 0 2.83L4 21.41c.39.39.9.59 1.41.59.51 0 1.02-.2 1.41-.59l7.78-7.78 2.81-2.81c.8-.78.8-2.07 0-2.86zM5.41 20L4 18.59l7.72-7.72 1.47 1.35L5.41 20z\"/>\n",
              "  </svg>\n",
              "      </button>\n",
              "      \n",
              "  <style>\n",
              "    .colab-df-container {\n",
              "      display:flex;\n",
              "      flex-wrap:wrap;\n",
              "      gap: 12px;\n",
              "    }\n",
              "\n",
              "    .colab-df-convert {\n",
              "      background-color: #E8F0FE;\n",
              "      border: none;\n",
              "      border-radius: 50%;\n",
              "      cursor: pointer;\n",
              "      display: none;\n",
              "      fill: #1967D2;\n",
              "      height: 32px;\n",
              "      padding: 0 0 0 0;\n",
              "      width: 32px;\n",
              "    }\n",
              "\n",
              "    .colab-df-convert:hover {\n",
              "      background-color: #E2EBFA;\n",
              "      box-shadow: 0px 1px 2px rgba(60, 64, 67, 0.3), 0px 1px 3px 1px rgba(60, 64, 67, 0.15);\n",
              "      fill: #174EA6;\n",
              "    }\n",
              "\n",
              "    [theme=dark] .colab-df-convert {\n",
              "      background-color: #3B4455;\n",
              "      fill: #D2E3FC;\n",
              "    }\n",
              "\n",
              "    [theme=dark] .colab-df-convert:hover {\n",
              "      background-color: #434B5C;\n",
              "      box-shadow: 0px 1px 3px 1px rgba(0, 0, 0, 0.15);\n",
              "      filter: drop-shadow(0px 1px 2px rgba(0, 0, 0, 0.3));\n",
              "      fill: #FFFFFF;\n",
              "    }\n",
              "  </style>\n",
              "\n",
              "      <script>\n",
              "        const buttonEl =\n",
              "          document.querySelector('#df-3d14219a-2f04-4c7d-9e66-1be5ea8afd04 button.colab-df-convert');\n",
              "        buttonEl.style.display =\n",
              "          google.colab.kernel.accessAllowed ? 'block' : 'none';\n",
              "\n",
              "        async function convertToInteractive(key) {\n",
              "          const element = document.querySelector('#df-3d14219a-2f04-4c7d-9e66-1be5ea8afd04');\n",
              "          const dataTable =\n",
              "            await google.colab.kernel.invokeFunction('convertToInteractive',\n",
              "                                                     [key], {});\n",
              "          if (!dataTable) return;\n",
              "\n",
              "          const docLinkHtml = 'Like what you see? Visit the ' +\n",
              "            '<a target=\"_blank\" href=https://colab.research.google.com/notebooks/data_table.ipynb>data table notebook</a>'\n",
              "            + ' to learn more about interactive tables.';\n",
              "          element.innerHTML = '';\n",
              "          dataTable['output_type'] = 'display_data';\n",
              "          await google.colab.output.renderOutput(dataTable, element);\n",
              "          const docLink = document.createElement('div');\n",
              "          docLink.innerHTML = docLinkHtml;\n",
              "          element.appendChild(docLink);\n",
              "        }\n",
              "      </script>\n",
              "    </div>\n",
              "  </div>\n",
              "  "
            ]
          },
          "metadata": {},
          "execution_count": 2
        }
      ]
    },
    {
      "cell_type": "code",
      "source": [
        "# Checking for missing data\n",
        "df.isnull().sum()"
      ],
      "metadata": {
        "colab": {
          "base_uri": "https://localhost:8080/"
        },
        "id": "Alh-zDpDxbcV",
        "outputId": "4b3920fa-c2fb-4029-a3cc-8117e97a6572"
      },
      "execution_count": 3,
      "outputs": [
        {
          "output_type": "execute_result",
          "data": {
            "text/plain": [
              "age                        0\n",
              "sex                        0\n",
              "chest_pain_level           0\n",
              "resting_blood_pressure     0\n",
              "cholesterol                0\n",
              "fasting_blood_sugar        0\n",
              "resting_ecd                0\n",
              "maximum hearth_rate        0\n",
              "exercise_induced_angina    0\n",
              "previous_peak              0\n",
              "slope                      0\n",
              "number_of_major_vessels    0\n",
              "thal_rate                  0\n",
              "output                     0\n",
              "dtype: int64"
            ]
          },
          "metadata": {},
          "execution_count": 3
        }
      ]
    },
    {
      "cell_type": "markdown",
      "source": [
        "#We don't have any missing data, so we can proceed!"
      ],
      "metadata": {
        "id": "zLdQzVS3xobF"
      }
    },
    {
      "cell_type": "code",
      "source": [
        "# Checking data types\n",
        "df.dtypes"
      ],
      "metadata": {
        "colab": {
          "base_uri": "https://localhost:8080/"
        },
        "id": "taNCq--KxlBz",
        "outputId": "0534b38b-3e90-4c77-d171-fc903bd335f3"
      },
      "execution_count": 4,
      "outputs": [
        {
          "output_type": "execute_result",
          "data": {
            "text/plain": [
              "age                          int64\n",
              "sex                          int64\n",
              "chest_pain_level             int64\n",
              "resting_blood_pressure       int64\n",
              "cholesterol                  int64\n",
              "fasting_blood_sugar          int64\n",
              "resting_ecd                  int64\n",
              "maximum hearth_rate          int64\n",
              "exercise_induced_angina      int64\n",
              "previous_peak              float64\n",
              "slope                        int64\n",
              "number_of_major_vessels      int64\n",
              "thal_rate                    int64\n",
              "output                       int64\n",
              "dtype: object"
            ]
          },
          "metadata": {},
          "execution_count": 4
        }
      ]
    },
    {
      "cell_type": "code",
      "source": [
        "# Converting the relevant data types\n",
        "df[\"sex\"] = df[\"sex\"].astype(\"category\")\n",
        "df[\"chest_pain_level\"] = df[\"chest_pain_level\"].astype(\"category\")\n",
        "df[\"fasting_blood_sugar\"] = df[\"fasting_blood_sugar\"].astype(\"category\")\n",
        "df[\"resting_ecd\"] = df[\"resting_ecd\"].astype(\"category\")\n",
        "df[\"resting_blood_pressure\"] = df[\"resting_blood_pressure\"].astype(\"float64\")\n",
        "df[\"cholesterol\"] = df[\"cholesterol\"].astype(\"float64\")\n",
        "df[\"maximum hearth_rate\"] = df[\"maximum hearth_rate\"].astype(\"float64\")\n",
        "df[\"exercise_induced_angina\"] = df[\"exercise_induced_angina\"].astype(\"category\")\n",
        "df[\"slope\"] = df[\"slope\"].astype(\"category\")\n",
        "df[\"exercise_induced_angina\"] = df[\"exercise_induced_angina\"].astype(\"category\")\n",
        "df[\"thal_rate\"] = df[\"thal_rate\"].astype(\"category\")\n",
        "df[\"output\"] = df[\"output\"].astype(\"category\")\n",
        "\n",
        "df.dtypes"
      ],
      "metadata": {
        "colab": {
          "base_uri": "https://localhost:8080/"
        },
        "id": "Rg4kmNo_x4aM",
        "outputId": "ee99b26f-958e-4e42-ff03-dc679ebb6eef"
      },
      "execution_count": 5,
      "outputs": [
        {
          "output_type": "execute_result",
          "data": {
            "text/plain": [
              "age                           int64\n",
              "sex                        category\n",
              "chest_pain_level           category\n",
              "resting_blood_pressure      float64\n",
              "cholesterol                 float64\n",
              "fasting_blood_sugar        category\n",
              "resting_ecd                category\n",
              "maximum hearth_rate         float64\n",
              "exercise_induced_angina    category\n",
              "previous_peak               float64\n",
              "slope                      category\n",
              "number_of_major_vessels       int64\n",
              "thal_rate                  category\n",
              "output                     category\n",
              "dtype: object"
            ]
          },
          "metadata": {},
          "execution_count": 5
        }
      ]
    },
    {
      "cell_type": "code",
      "source": [
        "# Training and testing data split\n",
        "from sklearn.model_selection import train_test_split\n",
        "\n",
        "X = df[[\"age\", \"sex\", \"chest_pain_level\", \"resting_blood_pressure\", \"cholesterol\", \"fasting_blood_sugar\",\n",
        "        \"resting_ecd\", \"maximum hearth_rate\", \"exercise_induced_angina\", \"previous_peak\", \"slope\", \"number_of_major_vessels\", \n",
        "        \"thal_rate\"]]\n",
        "y = df[\"output\"]\n",
        "\n",
        "X_train, X_test, y_train, y_test = train_test_split(X, y, test_size = 0.3)"
      ],
      "metadata": {
        "id": "TefYIl-uyFPj"
      },
      "execution_count": 6,
      "outputs": []
    },
    {
      "cell_type": "markdown",
      "source": [
        "#Building the model"
      ],
      "metadata": {
        "id": "FO4V8SuGFJ7m"
      }
    },
    {
      "cell_type": "code",
      "source": [
        "# Logistic Regression\n",
        "from sklearn.linear_model import LogisticRegression\n",
        "\n",
        "lr_model = LogisticRegression()\n",
        "lr_model.fit(X_train, y_train)\n",
        "lr_model.score(X_test, y_test)"
      ],
      "metadata": {
        "colab": {
          "base_uri": "https://localhost:8080/"
        },
        "id": "NE1loL28E9jH",
        "outputId": "f972a1f5-b21c-4d29-aacc-4bce39eca478"
      },
      "execution_count": 7,
      "outputs": [
        {
          "output_type": "stream",
          "name": "stderr",
          "text": [
            "/usr/local/lib/python3.7/dist-packages/sklearn/linear_model/_logistic.py:818: ConvergenceWarning: lbfgs failed to converge (status=1):\n",
            "STOP: TOTAL NO. of ITERATIONS REACHED LIMIT.\n",
            "\n",
            "Increase the number of iterations (max_iter) or scale the data as shown in:\n",
            "    https://scikit-learn.org/stable/modules/preprocessing.html\n",
            "Please also refer to the documentation for alternative solver options:\n",
            "    https://scikit-learn.org/stable/modules/linear_model.html#logistic-regression\n",
            "  extra_warning_msg=_LOGISTIC_SOLVER_CONVERGENCE_MSG,\n"
          ]
        },
        {
          "output_type": "execute_result",
          "data": {
            "text/plain": [
              "0.8571428571428571"
            ]
          },
          "metadata": {},
          "execution_count": 7
        }
      ]
    },
    {
      "cell_type": "code",
      "source": [
        "# Model Predictions\n",
        "y_pred = lr_model.predict(X_test)\n",
        "\n",
        "# Confusion Matrix\n",
        "from sklearn.metrics import confusion_matrix\n",
        "\n",
        "cm = confusion_matrix(y_test, y_pred)\n",
        "\n",
        "import seaborn as sn\n",
        "import matplotlib.pyplot as plt\n",
        "%matplotlib inline\n",
        "\n",
        "plt.plot(figsize = (10, 7))\n",
        "sn.heatmap(cm, annot = True)\n",
        "plt.xlabel(\"Heart Attack Predicted Values\")\n",
        "plt.ylabel(\"Actual Heart Attack Values\")"
      ],
      "metadata": {
        "colab": {
          "base_uri": "https://localhost:8080/",
          "height": 296
        },
        "id": "jDm3ePpLGXll",
        "outputId": "5403fbf5-3a3e-41b6-9457-81647809dce0"
      },
      "execution_count": 8,
      "outputs": [
        {
          "output_type": "execute_result",
          "data": {
            "text/plain": [
              "Text(33.0, 0.5, 'Actual Heart Attack Values')"
            ]
          },
          "metadata": {},
          "execution_count": 8
        },
        {
          "output_type": "display_data",
          "data": {
            "text/plain": [
              "<Figure size 432x288 with 2 Axes>"
            ],
            "image/png": "[encoded data removed]"
          },
          "metadata": {
            "needs_background": "light"
          }
        }
      ]
    },
    {
      "cell_type": "code",
      "source": [
        "# SVM\n",
        "from sklearn.svm import SVC\n",
        "\n",
        "svm_model = SVC()\n",
        "svm_model.fit(X_train, y_train)\n",
        "svm_model.score(X_test, y_test)"
      ],
      "metadata": {
        "colab": {
          "base_uri": "https://localhost:8080/"
        },
        "id": "Y1R_SMHxFd-h",
        "outputId": "06df2304-4d44-40fe-b2ca-bafecf5d5325"
      },
      "execution_count": 9,
      "outputs": [
        {
          "output_type": "execute_result",
          "data": {
            "text/plain": [
              "0.5714285714285714"
            ]
          },
          "metadata": {},
          "execution_count": 9
        }
      ]
    }
  ]
}